{
 "cells": [
  {
   "cell_type": "code",
   "execution_count": null,
   "metadata": {},
   "outputs": [],
   "source": [
    "from NN_TopOpt.NN_TopOpt import SIMP_Gaussians\n",
    "from NN_TopOpt.TopOpt import TopOptimizer2D"
   ]
  },
  {
   "cell_type": "code",
   "execution_count": null,
   "metadata": {},
   "outputs": [],
   "source": [
    "methods = {\"simp_basic\": SIMP_Gaussians}\n",
    "params = {'problem_name': \"sigmund11k_ellipses\",\n",
    "          'comment': 'scale outside',\n",
    "          'method': \"simp_basic\",\n",
    "          'splitting': False,\n",
    "          'merging': False,\n",
    "          'dens_interval': 40,\n",
    "          'dens_offset': 0,\n",
    "          'dens_start_iter': 40,\n",
    "          'cleaning_interval': 10,\n",
    "          'cleaning_offset': 5,\n",
    "          'merging_interval': 50,\n",
    "          'merging_offset': 1,\n",
    "          'merging_start_iter': 50,\n",
    "          'volfrac': 0.4,\n",
    "          'smooth_k': 15,\n",
    "          'N_g': 20,\n",
    "          'N_g_x': 4,\n",
    "          'N_g_y': 2,\n",
    "          'max_iter': 100,\n",
    "          'rs_loss': True,\n",
    "          'rs_loss_start_iter': 110,\n",
    "          'rs_loss_w': 10, ###\n",
    "          'rs_loss_e': 5,\n",
    "          'rs_loss_convex_threshold': 0.1,\n",
    "          'rs_loss_plato_threshold': 0.7,\n",
    "          'rs_loss_small_cos_dist_threshold': 0.93,\n",
    "          'compliance_w': 500000,\n",
    "          'volfrac_w': 300,\n",
    "          'gaussian_overlap_w': 150, #4\n",
    "          'gaussian_overlap_scale': 1.3,\n",
    "          'ff_loss_w': 5,\n",
    "          'rmin': 0.01}\n",
    "\n",
    "\n",
    "OptProcess = TopOptimizer2D(methods, params)\n",
    "OptProcess.optimize()"
   ]
  }
 ],
 "metadata": {
  "language_info": {
   "name": "python"
  }
 },
 "nbformat": 4,
 "nbformat_minor": 2
}
