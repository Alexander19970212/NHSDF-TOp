{
 "cells": [
  {
   "cell_type": "code",
   "execution_count": 1,
   "metadata": {},
   "outputs": [],
   "source": [
    "from datasets.RS_dataset import RSLossConvDataset, collate_fn_rs_loss\n",
    "from models.rs_loss_models import RSLossPredictorResNet50\n",
    "import torch\n",
    "import torch.utils.data\n",
    "from torch.utils.data import Dataset, DataLoader\n",
    "import pandas as pd\n",
    "import os\n",
    "import numpy as np\n",
    "\n",
    "# Create datasets\n",
    "dataset_triangle = RSLossConvDataset(root_dir='shape_datasets/RS_loss_datasets', \n",
    "                       shape_type='triangle', grid_size=40)\n",
    "dataset_quadrangle = RSLossConvDataset(root_dir='shape_datasets/RS_loss_datasets', \n",
    "                       shape_type='quadrangle', grid_size=40)\n",
    "\n",
    "# combined_dataset = torch.utils.data.ConcatDataset([dataset_triangle, dataset_quadrangle])\n",
    "\n",
    "# Split dataset into train and test sets\n",
    "train_size = int(0.8 * len(dataset_triangle))  # 80% for training\n",
    "test_size = len(dataset_triangle) - train_size  # 20% for testing\n",
    "\n",
    "# Use random_split to create train and test datasets\n",
    "train_dataset_triangle, test_dataset_triangle = torch.utils.data.random_split(\n",
    "    dataset_triangle, \n",
    "    [train_size, test_size],\n",
    "    generator=torch.Generator().manual_seed(42)  # Set seed for reproducibility\n",
    ")\n",
    "train_dataset_quadrangle, test_dataset_quadrangle = torch.utils.data.random_split(\n",
    "    dataset_quadrangle, \n",
    "    [train_size, test_size],\n",
    "    generator=torch.Generator().manual_seed(42)  # Set seed for reproducibility\n",
    ")\n",
    "\n",
    "combined_train_dataset = torch.utils.data.ConcatDataset([train_dataset_triangle, train_dataset_quadrangle])\n",
    "combined_test_dataset = torch.utils.data.ConcatDataset([test_dataset_triangle, test_dataset_quadrangle])\n",
    "\n",
    "# Modify your DataLoader creation to use the collate function\n",
    "train_loader = DataLoader(\n",
    "    combined_train_dataset, \n",
    "    batch_size=16, \n",
    "    shuffle=True, \n",
    "    num_workers=15,\n",
    "    collate_fn=collate_fn_rs_loss\n",
    ")\n",
    "\n",
    "val_loader = DataLoader(\n",
    "    combined_test_dataset, \n",
    "    batch_size=16, \n",
    "    shuffle=False, \n",
    "    num_workers=15,\n",
    "    collate_fn=collate_fn_rs_loss\n",
    ")\n"
   ]
  },
  {
   "cell_type": "code",
   "execution_count": 2,
   "metadata": {},
   "outputs": [
    {
     "name": "stderr",
     "output_type": "stream",
     "text": [
      "/home/kalexu97/Projects/carpenter-sdf-topology-optimizer/.venv/lib/python3.12/site-packages/torchvision/models/_utils.py:208: UserWarning: The parameter 'pretrained' is deprecated since 0.13 and may be removed in the future, please use 'weights' instead.\n",
      "  warnings.warn(\n",
      "/home/kalexu97/Projects/carpenter-sdf-topology-optimizer/.venv/lib/python3.12/site-packages/torchvision/models/_utils.py:223: UserWarning: Arguments other than a weight enum or `None` for 'weights' are deprecated since 0.13 and may be removed in the future. The current behavior is equivalent to passing `weights=ResNet50_Weights.IMAGENET1K_V1`. You can also use `weights=ResNet50_Weights.DEFAULT` to get the most up-to-date weights.\n",
      "  warnings.warn(msg)\n",
      "GPU available: True (cuda), used: True\n",
      "TPU available: False, using: 0 TPU cores\n",
      "HPU available: False, using: 0 HPUs\n",
      "You are using a CUDA device ('NVIDIA GeForce RTX 3060 Laptop GPU') that has Tensor Cores. To properly utilize them, you should set `torch.set_float32_matmul_precision('medium' | 'high')` which will trade-off precision for performance. For more details, read https://pytorch.org/docs/stable/generated/torch.set_float32_matmul_precision.html#torch.set_float32_matmul_precision\n",
      "LOCAL_RANK: 0 - CUDA_VISIBLE_DEVICES: [0]\n"
     ]
    },
    {
     "name": "stdout",
     "output_type": "stream",
     "text": [
      "Validation DataLoader 0: 100%|██████████| 1250/1250 [00:54<00:00, 22.87it/s]\n",
      "────────────────────────────────────────────────────────────────────────────────────────────────────────────────────────\n",
      "     Validate metric           DataLoader 0\n",
      "────────────────────────────────────────────────────────────────────────────────────────────────────────────────────────\n",
      "        val_loss            0.07851719856262207\n",
      "────────────────────────────────────────────────────────────────────────────────────────────────────────────────────────\n"
     ]
    },
    {
     "name": "stderr",
     "output_type": "stream",
     "text": [
      "LOCAL_RANK: 0 - CUDA_VISIBLE_DEVICES: [0]\n",
      "\n",
      "  | Name      | Type       | Params | Mode \n",
      "-------------------------------------------------\n",
      "0 | backbone  | ResNet     | 23.5 M | train\n",
      "1 | head      | Sequential | 524 K  | train\n",
      "2 | criterion | MSELoss    | 0      | train\n",
      "-------------------------------------------------\n",
      "24.0 M    Trainable params\n",
      "0         Non-trainable params\n",
      "24.0 M    Total params\n",
      "96.106    Total estimated model params size (MB)\n",
      "156       Modules in train mode\n",
      "0         Modules in eval mode\n"
     ]
    },
    {
     "name": "stdout",
     "output_type": "stream",
     "text": [
      "Epoch 0:  20%|██        | 1004/5000 [00:55<03:39, 18.18it/s, v_num=conv]   "
     ]
    },
    {
     "name": "stderr",
     "output_type": "stream",
     "text": [
      "/home/kalexu97/Projects/carpenter-sdf-topology-optimizer/.venv/lib/python3.12/site-packages/torch/optim/lr_scheduler.py:240: UserWarning: The epoch parameter in `scheduler.step()` was not necessary and is being deprecated where possible. Please use `scheduler.step()` to step the scheduler. During the deprecation, if epoch is different from None, the closed form is used instead of the new chainable form, where available. Please open an issue if you are unable to replicate your use case: https://github.com/pytorch/pytorch/issues/new/choose.\n",
      "  warnings.warn(EPOCH_DEPRECATION_WARNING, UserWarning)\n"
     ]
    },
    {
     "name": "stdout",
     "output_type": "stream",
     "text": [
      "Epoch 19: 100%|██████████| 5000/5000 [06:03<00:00, 13.74it/s, v_num=conv]"
     ]
    },
    {
     "name": "stderr",
     "output_type": "stream",
     "text": [
      "`Trainer.fit` stopped: `max_epochs=20` reached.\n"
     ]
    },
    {
     "name": "stdout",
     "output_type": "stream",
     "text": [
      "Epoch 19: 100%|██████████| 5000/5000 [06:03<00:00, 13.74it/s, v_num=conv]\n"
     ]
    },
    {
     "name": "stderr",
     "output_type": "stream",
     "text": [
      "LOCAL_RANK: 0 - CUDA_VISIBLE_DEVICES: [0]\n"
     ]
    },
    {
     "name": "stdout",
     "output_type": "stream",
     "text": [
      "Validation DataLoader 0: 100%|██████████| 1250/1250 [00:56<00:00, 22.29it/s]\n",
      "────────────────────────────────────────────────────────────────────────────────────────────────────────────────────────\n",
      "     Validate metric           DataLoader 0\n",
      "────────────────────────────────────────────────────────────────────────────────────────────────────────────────────────\n",
      "        val_loss           0.0011588652851060033\n",
      "────────────────────────────────────────────────────────────────────────────────────────────────────────────────────────\n"
     ]
    },
    {
     "data": {
      "text/plain": [
       "[{'val_loss': 0.0011588652851060033}]"
      ]
     },
     "execution_count": 2,
     "metadata": {},
     "output_type": "execute_result"
    }
   ],
   "source": [
    "from lightning.pytorch import Trainer, seed_everything, callbacks\n",
    "from lightning.pytorch.loggers import TensorBoardLogger\n",
    "import lightning as L\n",
    "\n",
    "MAX_EPOCHS = 20\n",
    "MAX_STEPS = MAX_EPOCHS * len(train_loader)\n",
    "run_name = 'rs_loss_conv'\n",
    "\n",
    "# Initialize model and trainer]\n",
    "predictor = RSLossPredictorResNet50(learning_rate=1e-3, beta=0.00002, warmup_steps=1000, max_steps=MAX_STEPS)\n",
    "# checkpoint_path = 'model_weights/rs_loss_conv_combined.ckpt'\n",
    "# predictor = RSLossPredictorResNet50.load_from_checkpoint(checkpoint_path, max_steps=MAX_STEPS)\n",
    "\n",
    "trainer = L.Trainer(\n",
    "    max_epochs=MAX_EPOCHS,\n",
    "    accelerator='auto',\n",
    "    devices=1,\n",
    "    callbacks=[\n",
    "        callbacks.ModelCheckpoint(\n",
    "            monitor='val_loss',\n",
    "            dirpath='checkpoints',\n",
    "            filename='rs_loss-{epoch:02d}-{val_loss:.4f}',\n",
    "            save_top_k=3,\n",
    "            mode='min'\n",
    "        ),\n",
    "        callbacks.EarlyStopping(\n",
    "            monitor='val_loss',\n",
    "            patience=10,\n",
    "            mode='min'\n",
    "        )\n",
    "    ],\n",
    "    logger = TensorBoardLogger(\n",
    "        name='rs_conv_loss', \n",
    "        save_dir='./logs', \n",
    "        default_hp_metric=False,\n",
    "        version=run_name\n",
    "    ),\n",
    "    check_val_every_n_epoch = None,  # Disable validation every epoch\n",
    "    val_check_interval=5000  # Perform validation every 2000 training steps\n",
    ")\n",
    "\n",
    "# Train the model\n",
    "trainer.validate(predictor, val_loader)\n",
    "trainer.fit(predictor, train_loader, val_loader)\n",
    "# Evaluate the model on the validation set\n",
    "trainer.validate(predictor, val_loader)"
   ]
  },
  {
   "cell_type": "code",
   "execution_count": 3,
   "metadata": {},
   "outputs": [
    {
     "name": "stdout",
     "output_type": "stream",
     "text": [
      "Model weights saved to model_weights/rs_loss_conv.ckpt\n",
      "Model weights saved to model_weights/rs_loss_conv.pt\n"
     ]
    }
   ],
   "source": [
    "# # Save model weights\n",
    "checkpoint_path = f'model_weights/{run_name}.ckpt'\n",
    "trainer.save_checkpoint(checkpoint_path)\n",
    "print(f\"Model weights saved to {checkpoint_path}\")\n",
    "\n",
    "model_weights_path = f'model_weights/{run_name}.pt'\n",
    "torch.save(predictor.state_dict(), model_weights_path)\n",
    "print(f\"Model weights saved to {model_weights_path}\")"
   ]
  },
  {
   "cell_type": "code",
   "execution_count": 6,
   "metadata": {},
   "outputs": [
    {
     "data": {
      "image/png": "[encoded data removed]",
      "text/plain": [
       "<Figure size 1000x600 with 1 Axes>"
      ]
     },
     "metadata": {},
     "output_type": "display_data"
    }
   ],
   "source": [
    "# plot learning curves\n",
    "from vizualization_utils import plot_learning_curves\n",
    "\n",
    "log_directory = './logs/rs_conv_loss'\n",
    "subdirs = [run_name]\n",
    "plot_learning_curves(log_directory, subdirs, metric='val_loss', filename=f'src/figures/{run_name}')\n"
   ]
  }
 ],
 "metadata": {
  "kernelspec": {
   "display_name": ".venv",
   "language": "python",
   "name": "python3"
  },
  "language_info": {
   "codemirror_mode": {
    "name": "ipython",
    "version": 3
   },
   "file_extension": ".py",
   "mimetype": "text/x-python",
   "name": "python",
   "nbconvert_exporter": "python",
   "pygments_lexer": "ipython3",
   "version": "3.12.3"
  }
 },
 "nbformat": 4,
 "nbformat_minor": 2
}
