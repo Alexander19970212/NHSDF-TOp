{
 "cells": [
  {
   "cell_type": "code",
   "execution_count": 2,
   "metadata": {},
   "outputs": [],
   "source": [
    "import sys\n",
    "import os\n",
    "import torch\n",
    "import torch.nn as nn\n",
    "import torch.optim as optim\n",
    "from torch.utils.data import Dataset, DataLoader\n",
    "from torch.nn import functional as F\n",
    "import pandas as pd\n",
    "import numpy as np\n",
    "from tqdm import tqdm\n",
    "import matplotlib.pyplot as plt\n",
    "from lightning.pytorch import Trainer, seed_everything, callbacks\n",
    "from lightning.pytorch.loggers import TensorBoardLogger\n",
    "\n",
    "sys.path.append(os.path.abspath('..'))\n",
    "\n",
    "from models.sdf_models import LitSdfAE, LitSdfAE_MINE\n",
    "from models.sdf_models import AE, VAE, MMD_VAE\n",
    "from models.sdf_models import AE_DeepSDF, VAE_DeepSDF, MMD_VAE_DeepSDF\n",
    "from datasets.SDF_dataset import SdfDataset, SdfDatasetSurface, collate_fn_surface\n",
    "from datasets.SDF_dataset import RadiusDataset\n",
    "\n",
    "# Enable anomaly detection to help find where NaN/Inf values originate\n",
    "torch.autograd.set_detect_anomaly(True)\n",
    "\n",
    "# Enable deterministic algorithms for better debugging\n",
    "# torch.use_deterministic_algorithms(True)\n",
    "\n",
    "# # Set debug mode for floating point operations\n",
    "# torch.set_printoptions(precision=10, sci_mode=False)\n",
    "\n",
    "# # Function to check for NaN/Inf values in tensors\n",
    "# def check_tensor(tensor, tensor_name=\"\"):\n",
    "#     if torch.isnan(tensor).any():\n",
    "#         print(f\"NaN detected in {tensor_name}\")\n",
    "#         print(tensor)\n",
    "#         raise ValueError(f\"NaN detected in {tensor_name}\")\n",
    "#     if torch.isinf(tensor).any():\n",
    "#         print(f\"Inf detected in {tensor_name}\") \n",
    "#         print(tensor)\n",
    "#         raise ValueError(f\"Inf detected in {tensor_name}\")\n",
    "\n",
    "\n",
    "# Add the parent directory of NN_TopOpt to the system path\n",
    "sys.path.append(os.path.abspath('NN_TopOpt'))\n",
    "\n",
    "dataset_path = '../shape_datasets'\n",
    "\n",
    "    \n",
    "# dataset_test_files = [f'{dataset_path}/ellipse_sdf_dataset_smf22_arc_ratio_500_test.csv',\n",
    "#                 f'{dataset_path}/triangle_sdf_dataset_smf20_arc_ratio_500_test.csv', \n",
    "#                 f'{dataset_path}/quadrangle_sdf_dataset_smf20_arc_ratio_500_test.csv']\n",
    "\n",
    "dataset_test_files = [f'{dataset_path}/ellipse_sdf_dataset_smf22_arc_ratio_500.csv',\n",
    "                 f'{dataset_path}/triangle_sdf_dataset_smf20_arc_ratio_500.csv', \n",
    "                 f'{dataset_path}/quadrangle_sdf_dataset_smf20_arc_ratio_500.csv']\n",
    "\n",
    "\n",
    "test_dataset = SdfDataset(dataset_test_files, exclude_ellipse=False)\n",
    "\n",
    "# Create DataLoaders with shuffling\n",
    "batch_size = 64\n",
    "\n",
    "test_loader = torch.utils.data.DataLoader(\n",
    "    test_dataset, \n",
    "    batch_size=batch_size,\n",
    "    shuffle=False,  # No need to shuffle test data\n",
    "    num_workers=15\n",
    ")"
   ]
  },
  {
   "cell_type": "code",
   "execution_count": 3,
   "metadata": {},
   "outputs": [],
   "source": [
    "from models.sdf_models import LitSdfAE_Reconstruction\n",
    "\n",
    "# configs_dir = '../configs/NN_sdf_experiments/recon_MILoss'\n",
    "configs_dir = '../configs/NN_sdf_experiments/model_arch_minmi'\n",
    "models_dir = '../model_weights'\n",
    "\n",
    "# config_name = 'AE_DeepSDF_ReconDec'\n",
    "config_name = 'AE_DeepSDF_minMI'\n",
    "# uba_VAE_DeepSDF_minMI.pt\n",
    "\n",
    "run_name = f'local_{config_name}_test_large'\n",
    "# saved_model_path = f'{configs_dir}/{run_name}/checkpoints/epoch=0-step=0.ckpt'\n",
    "# saved_model_path = f'{models_dir}/local_{config_name}_test6.pt'\n",
    "saved_model_path = f'{models_dir}/{config_name}_full.pt'\n",
    "\n",
    "models = {'AE_DeepSDF': AE_DeepSDF,\n",
    "          'AE': AE, \n",
    "          'VAE': VAE,\n",
    "          'VAE_DeepSDF': VAE_DeepSDF,\n",
    "          'MMD_VAE': MMD_VAE,\n",
    "          'MMD_VAE_DeepSDF': MMD_VAE_DeepSDF}"
   ]
  },
  {
   "cell_type": "code",
   "execution_count": 4,
   "metadata": {},
   "outputs": [
    {
     "name": "stdout",
     "output_type": "stream",
     "text": [
      "regularization: l2, reg_weight: 0.1\n",
      "Using orthogonality loss: None\n"
     ]
    },
    {
     "name": "stderr",
     "output_type": "stream",
     "text": [
      "/tmp/ipykernel_18530/13971086.py:15: FutureWarning: You are using `torch.load` with `weights_only=False` (the current default value), which uses the default pickle module implicitly. It is possible to construct malicious pickle data which will execute arbitrary code during unpickling (See https://github.com/pytorch/pytorch/blob/main/SECURITY.md#untrusted-models for more details). In a future release, the default value for `weights_only` will be flipped to `True`. This limits the functions that could be executed during unpickling. Arbitrary objects will no longer be allowed to be loaded via this mode unless they are explicitly allowlisted by the user via `torch.serialization.add_safe_globals`. We recommend you start setting `weights_only=True` for any use case where you don't have full control of the loaded file. Please open an issue on GitHub for any issues related to this experimental feature.\n",
      "  state_dict = torch.load(saved_model_path)\n"
     ]
    },
    {
     "data": {
      "text/plain": [
       "<All keys matched successfully>"
      ]
     },
     "execution_count": 4,
     "metadata": {},
     "output_type": "execute_result"
    }
   ],
   "source": [
    "import yaml\n",
    "\n",
    "\n",
    "# Load configuration from YAML file\n",
    "with open(f'{configs_dir}/{config_name}.yaml', 'r') as file:\n",
    "    config = yaml.safe_load(file)\n",
    "\n",
    "# Initialize VAE model\n",
    "model_params = config['model']['params']\n",
    "model_params['input_dim'] = 17 # train_dataset.feature_dim\n",
    "vae_model = models[config['model']['type']](**model_params)\n",
    "\n",
    "# Load pre-trained weights for the model\n",
    "# pretrained_weights_path = config['model']['pretrained_weights_path'\n",
    "state_dict = torch.load(saved_model_path)\n",
    "new_state_dict = vae_model.state_dict()\n",
    "\n",
    "# Update the new_state_dict with the loaded state_dict, ignoring size mismatches\n",
    "for key in state_dict:\n",
    "    if key in new_state_dict and state_dict[key].size() == new_state_dict[key].size():\n",
    "        new_state_dict[key] = state_dict[key]\n",
    "\n",
    "vae_model.load_state_dict(state_dict)\n"
   ]
  },
  {
   "cell_type": "code",
   "execution_count": 5,
   "metadata": {},
   "outputs": [
    {
     "name": "stderr",
     "output_type": "stream",
     "text": [
      "Processing batches: 100%|██████████| 23438/23438 [01:34<00:00, 247.02it/s]\n"
     ]
    },
    {
     "name": "stdout",
     "output_type": "stream",
     "text": [
      "(1500000, 9)\n"
     ]
    }
   ],
   "source": [
    "class_names = ['Ellipse', 'Triangle', 'Quadrangle']\n",
    "\n",
    "def investigate_latent_space(model, dataloader, stats_dir=None, config_name=None):\n",
    "    \"\"\"Visualize the latent space\"\"\"\n",
    "\n",
    "    # Create stats directory if it doesn't exist\n",
    "    if stats_dir is not None:\n",
    "        os.makedirs(stats_dir, exist_ok=True)\n",
    "\n",
    "    model.eval()\n",
    "    latent_vectors = []\n",
    "    \n",
    "    with torch.no_grad():\n",
    "        for batch in tqdm(dataloader, desc=\"Processing batches\"):\n",
    "            output = model(batch[0])\n",
    "            latent_vectors.append(output['z'])\n",
    "                \n",
    "    latent_vectors = torch.cat(latent_vectors, dim=0)\n",
    "    latent_vectors = latent_vectors.cpu().numpy()\n",
    "\n",
    "    print(latent_vectors.shape)\n",
    "\n",
    "    latent_mins = np.min(latent_vectors, axis=0)\n",
    "    latent_maxs = np.max(latent_vectors, axis=0)\n",
    "\n",
    "    if stats_dir is not None and config_name is not None:\n",
    "        np.savez(\n",
    "            f\"{stats_dir}/{config_name}_full_stats.npz\",\n",
    "            latent_mins=latent_mins,\n",
    "            latent_maxs=latent_maxs\n",
    "        )\n",
    "\n",
    "\n",
    "investigate_latent_space(vae_model, test_loader, stats_dir=f'../z_limits', config_name=config_name)"
   ]
  }
 ],
 "metadata": {
  "kernelspec": {
   "display_name": ".venv",
   "language": "python",
   "name": "python3"
  },
  "language_info": {
   "codemirror_mode": {
    "name": "ipython",
    "version": 3
   },
   "file_extension": ".py",
   "mimetype": "text/x-python",
   "name": "python",
   "nbconvert_exporter": "python",
   "pygments_lexer": "ipython3",
   "version": "3.12.3"
  }
 },
 "nbformat": 4,
 "nbformat_minor": 2
}
