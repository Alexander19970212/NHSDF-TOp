{
 "cells": [
  {
   "cell_type": "code",
   "execution_count": 1,
   "metadata": {},
   "outputs": [
    {
     "name": "stdout",
     "output_type": "stream",
     "text": [
      "Training set size: 300000\n",
      "Test set size: 15000\n"
     ]
    }
   ],
   "source": [
    "import sys\n",
    "import os\n",
    "import torch\n",
    "import torch.nn as nn\n",
    "import torch.optim as optim\n",
    "from torch.utils.data import Dataset, DataLoader\n",
    "from torch.nn import functional as F\n",
    "import pandas as pd\n",
    "import numpy as np\n",
    "from tqdm import tqdm\n",
    "import matplotlib.pyplot as plt\n",
    "from lightning.pytorch import Trainer, seed_everything, callbacks\n",
    "from lightning.pytorch.loggers import TensorBoardLogger\n",
    "\n",
    "# Add the parent directory of NN_TopOpt to the system path\n",
    "sys.path.append(os.path.abspath('..'))\n",
    "\n",
    "from models.sdf_models import LitSdfAE, LitSdfAE_MINE\n",
    "from models.sdf_models import AE, VAE, MMD_VAE\n",
    "from models.sdf_models import AE_DeepSDF, VAE_DeepSDF, MMD_VAE_DeepSDF\n",
    "from datasets.SDF_dataset import SdfDataset, SdfDatasetSurface, collate_fn_surface\n",
    "from datasets.SDF_dataset import RadiusDataset\n",
    "from datasets.SDF_dataset import ReconstructionDataset\n",
    "\n",
    "\n",
    "# Enable anomaly detection to help find where NaN/Inf values originate\n",
    "torch.autograd.set_detect_anomaly(True)\n",
    "\n",
    "# Enable deterministic algorithms for better debugging\n",
    "# torch.use_deterministic_algorithms(True)\n",
    "\n",
    "# # Set debug mode for floating point operations\n",
    "# torch.set_printoptions(precision=10, sci_mode=False)\n",
    "\n",
    "# # Function to check for NaN/Inf values in tensors\n",
    "# def check_tensor(tensor, tensor_name=\"\"):\n",
    "#     if torch.isnan(tensor).any():\n",
    "#         print(f\"NaN detected in {tensor_name}\")\n",
    "#         print(tensor)\n",
    "#         raise ValueError(f\"NaN detected in {tensor_name}\")\n",
    "#     if torch.isinf(tensor).any():\n",
    "#         print(f\"Inf detected in {tensor_name}\") \n",
    "#         print(tensor)\n",
    "#         raise ValueError(f\"Inf detected in {tensor_name}\")\n",
    "\n",
    "\n",
    "# Add the parent directory of NN_TopOpt to the system path\n",
    "sys.path.append(os.path.abspath('..'))\n",
    "\n",
    "root_path = '../shape_datasets'\n",
    "\n",
    "dataset_train_files = [f'{root_path}/triangle_reconstruction_dataset_train.csv',\n",
    "                 f'{root_path}/quadrangle_reconstruction_dataset_train.csv',\n",
    "                 f'{root_path}/ellipse_reconstruction_dataset_train.csv']\n",
    "\n",
    "dataset_test_files = [f'{root_path}/triangle_reconstruction_dataset_test.csv',\n",
    "                 f'{root_path}/quadrangle_reconstruction_dataset_test.csv',\n",
    "                 f'{root_path}/ellipse_reconstruction_dataset_test.csv']\n",
    "\n",
    "train_dataset = ReconstructionDataset(dataset_train_files)\n",
    "test_dataset = ReconstructionDataset(dataset_test_files)\n",
    "\n",
    "\n",
    "# Create DataLoaders with shuffling\n",
    "batch_size = 64\n",
    "train_loader = torch.utils.data.DataLoader(\n",
    "    train_dataset,\n",
    "    batch_size=batch_size,\n",
    "    shuffle=True,  # Enable shuffling for training data\n",
    "    num_workers=15\n",
    ")\n",
    "\n",
    "test_loader = torch.utils.data.DataLoader(\n",
    "    test_dataset, \n",
    "    batch_size=batch_size,\n",
    "    shuffle=False,  # No need to shuffle test data\n",
    "    num_workers=15\n",
    ")\n",
    "\n",
    "\n",
    "print(f\"Training set size: {len(train_dataset)}\")\n",
    "print(f\"Test set size: {len(test_dataset)}\")\n"
   ]
  },
  {
   "cell_type": "code",
   "execution_count": 2,
   "metadata": {},
   "outputs": [],
   "source": [
    "from models.sdf_models import LitSdfAE_Reconstruction\n",
    "\n",
    "configs_dir = '../configs/NN_sdf_experiments/model_arch_minmi2'\n",
    "models_dir = '../model_weights'\n",
    "\n",
    "config_name = 'VAE_DeepSDF_minMI'\n",
    "# uba_VAE_DeepSDF_minMI.pt\n",
    "\n",
    "run_name = f'local_{config_name}_test_large'\n",
    "# saved_model_path = f'{configs_dir}/{run_name}/checkpoints/epoch=0-step=0.ckpt'\n",
    "saved_model_path = f'{models_dir}/uba_{config_name}.pt'\n",
    "\n",
    "models = {'AE_DeepSDF': AE_DeepSDF,\n",
    "          'AE': AE, \n",
    "          'VAE': VAE,\n",
    "          'VAE_DeepSDF': VAE_DeepSDF,\n",
    "          'MMD_VAE': MMD_VAE,\n",
    "          'MMD_VAE_DeepSDF': MMD_VAE_DeepSDF}"
   ]
  },
  {
   "cell_type": "code",
   "execution_count": 6,
   "metadata": {},
   "outputs": [
    {
     "name": "stderr",
     "output_type": "stream",
     "text": [
      "GPU available: True (cuda), used: True\n",
      "TPU available: False, using: 0 TPU cores\n",
      "HPU available: False, using: 0 HPUs\n"
     ]
    },
    {
     "name": "stderr",
     "output_type": "stream",
     "text": [
      "/tmp/ipykernel_33820/1676103688.py:48: FutureWarning: You are using `torch.load` with `weights_only=False` (the current default value), which uses the default pickle module implicitly. It is possible to construct malicious pickle data which will execute arbitrary code during unpickling (See https://github.com/pytorch/pytorch/blob/main/SECURITY.md#untrusted-models for more details). In a future release, the default value for `weights_only` will be flipped to `True`. This limits the functions that could be executed during unpickling. Arbitrary objects will no longer be allowed to be loaded via this mode unless they are explicitly allowlisted by the user via `torch.serialization.add_safe_globals`. We recommend you start setting `weights_only=True` for any use case where you don't have full control of the loaded file. Please open an issue on GitHub for any issues related to this experimental feature.\n",
      "  state_dict = torch.load(saved_model_path)\n",
      "/home/kalexu97/Projects/carpenter-sdf-topology-optimizer/.venv/lib/python3.12/site-packages/lightning/pytorch/utilities/parsing.py:208: Attribute 'vae_model' is an instance of `nn.Module` and is already saved during checkpointing. It is recommended to ignore them using `self.save_hyperparameters(ignore=['vae_model'])`.\n",
      "You are using a CUDA device ('NVIDIA GeForce RTX 3060 Laptop GPU') that has Tensor Cores. To properly utilize them, you should set `torch.set_float32_matmul_precision('medium' | 'high')` which will trade-off precision for performance. For more details, read https://pytorch.org/docs/stable/generated/torch.set_float32_matmul_precision.html#torch.set_float32_matmul_precision\n",
      "LOCAL_RANK: 0 - CUDA_VISIBLE_DEVICES: [0]\n"
     ]
    },
    {
     "name": "stdout",
     "output_type": "stream",
     "text": [
      "Validation DataLoader 0: 100%|██████████| 235/235 [00:01<00:00, 167.59it/s]\n"
     ]
    },
    {
     "data": {
      "text/html": [
       "<pre style=\"white-space:pre;overflow-x:auto;line-height:normal;font-family:Menlo,'DejaVu Sans Mono',consolas,'Courier New',monospace\">┏━━━━━━━━━━━━━━━━━━━━━━━━━━━┳━━━━━━━━━━━━━━━━━━━━━━━━━━━┓\n",
       "┃<span style=\"font-weight: bold\">      Validate metric      </span>┃<span style=\"font-weight: bold\">       DataLoader 0        </span>┃\n",
       "┡━━━━━━━━━━━━━━━━━━━━━━━━━━━╇━━━━━━━━━━━━━━━━━━━━━━━━━━━┩\n",
       "│<span style=\"color: #008080; text-decoration-color: #008080\">  val_reconstruction_loss  </span>│<span style=\"color: #800080; text-decoration-color: #800080\">    0.2703113853931427     </span>│\n",
       "└───────────────────────────┴───────────────────────────┘\n",
       "</pre>\n"
      ],
      "text/plain": [
       "┏━━━━━━━━━━━━━━━━━━━━━━━━━━━┳━━━━━━━━━━━━━━━━━━━━━━━━━━━┓\n",
       "┃\u001b[1m \u001b[0m\u001b[1m     Validate metric     \u001b[0m\u001b[1m \u001b[0m┃\u001b[1m \u001b[0m\u001b[1m      DataLoader 0       \u001b[0m\u001b[1m \u001b[0m┃\n",
       "┡━━━━━━━━━━━━━━━━━━━━━━━━━━━╇━━━━━━━━━━━━━━━━━━━━━━━━━━━┩\n",
       "│\u001b[36m \u001b[0m\u001b[36m val_reconstruction_loss \u001b[0m\u001b[36m \u001b[0m│\u001b[35m \u001b[0m\u001b[35m   0.2703113853931427    \u001b[0m\u001b[35m \u001b[0m│\n",
       "└───────────────────────────┴───────────────────────────┘\n"
      ]
     },
     "metadata": {},
     "output_type": "display_data"
    },
    {
     "data": {
      "text/plain": [
       "[{'val_reconstruction_loss': 0.2703113853931427}]"
      ]
     },
     "execution_count": 6,
     "metadata": {},
     "output_type": "execute_result"
    }
   ],
   "source": [
    "# from lightning.pytorch.callbacks import Callback\n",
    "torch.autograd.set_detect_anomaly(True)\n",
    "import yaml\n",
    "\n",
    "MAX_EPOCHS = 5\n",
    "MAX_STEPS = MAX_EPOCHS * len(train_loader)\n",
    "\n",
    "# Training setup\n",
    "trainer = Trainer(\n",
    "    max_epochs=MAX_EPOCHS, # the first epoch for training all model, the second one for training rec decoder\n",
    "    accelerator='auto',\n",
    "    devices=1,\n",
    "    logger=TensorBoardLogger(\n",
    "        name='VAE_reconstructor', \n",
    "        save_dir='../logs', \n",
    "        default_hp_metric=False, \n",
    "        version=run_name\n",
    "    ),\n",
    "    callbacks=[\n",
    "        callbacks.ModelCheckpoint(\n",
    "            monitor='val_reconstruction_loss',\n",
    "            mode='min',\n",
    "            save_top_k=1,\n",
    "            filename='best-model-{epoch:02d}-{val_reconstruction_loss:.2f}'\n",
    "        ),\n",
    "        callbacks.EarlyStopping(\n",
    "            monitor='val_reconstruction_loss',\n",
    "            patience=10,\n",
    "            mode='min'\n",
    "        ) #,\n",
    "        # FirstEvalCallback()\n",
    "    ],\n",
    "    check_val_every_n_epoch=None,  # Disable validation every epoch\n",
    "    val_check_interval=5000  # Perform validation every 2000 training steps\n",
    ")\n",
    "\n",
    "# Load configuration from YAML file\n",
    "with open(f'{configs_dir}/{config_name}.yaml', 'r') as file:\n",
    "    config = yaml.safe_load(file)\n",
    "\n",
    "# Initialize VAE model\n",
    "model_params = config['model']['params']\n",
    "model_params['input_dim'] = 17 # train_dataset.feature_dim\n",
    "vae_model = models[config['model']['type']](**model_params)\n",
    "\n",
    "# Load pre-trained weights for the model\n",
    "# pretrained_weights_path = config['model']['pretrained_weights_path'\n",
    "state_dict = torch.load(saved_model_path)\n",
    "new_state_dict = vae_model.state_dict()\n",
    "\n",
    "# Update the new_state_dict with the loaded state_dict, ignoring size mismatches\n",
    "for key in state_dict:\n",
    "    if key in new_state_dict and state_dict[key].size() == new_state_dict[key].size():\n",
    "        new_state_dict[key] = state_dict[key]\n",
    "\n",
    "vae_model.load_state_dict(new_state_dict)\n",
    "\n",
    "# Initialize VAE trainer\n",
    "trainer_params = config['trainer']['params']\n",
    "trainer_params['vae_model'] = vae_model\n",
    "trainer_params['max_steps'] = MAX_STEPS\n",
    "vae_trainer = LitSdfAE_Reconstruction(**trainer_params)\n",
    "\n",
    "# Train the model\n",
    "trainer.validate(vae_trainer, dataloaders=test_loader)\n",
    "# trainer.fit(vae_trainer,  train_dataloaders=[train_loader, train_loader], val_dataloaders=[test_loader, surface_test_loader, radius_samples_loader])"
   ]
  },
  {
   "cell_type": "code",
   "execution_count": 7,
   "metadata": {},
   "outputs": [
    {
     "name": "stderr",
     "output_type": "stream",
     "text": [
      "LOCAL_RANK: 0 - CUDA_VISIBLE_DEVICES: [0]\n",
      "\n",
      "  | Name | Type        | Params | Mode \n",
      "---------------------------------------------\n",
      "0 | vae  | VAE_DeepSDF | 2.3 M  | train\n",
      "---------------------------------------------\n",
      "334 K     Trainable params\n",
      "1.9 M     Non-trainable params\n",
      "2.3 M     Total params\n",
      "9.015     Total estimated model params size (MB)\n",
      "52        Modules in train mode\n",
      "0         Modules in eval mode\n"
     ]
    },
    {
     "name": "stdout",
     "output_type": "stream",
     "text": [
      "Sanity Checking: |          | 0/? [00:00<?, ?it/s]"
     ]
    },
    {
     "name": "stdout",
     "output_type": "stream",
     "text": [
      "Epoch 0:  22%|██▏       | 1019/4688 [00:09<00:32, 112.05it/s, v_num=arge, train_reconstruction_loss=0.0661]"
     ]
    },
    {
     "name": "stderr",
     "output_type": "stream",
     "text": [
      "/home/kalexu97/Projects/carpenter-sdf-topology-optimizer/.venv/lib/python3.12/site-packages/torch/optim/lr_scheduler.py:240: UserWarning: The epoch parameter in `scheduler.step()` was not necessary and is being deprecated where possible. Please use `scheduler.step()` to step the scheduler. During the deprecation, if epoch is different from None, the closed form is used instead of the new chainable form, where available. Please open an issue if you are unable to replicate your use case: https://github.com/pytorch/pytorch/issues/new/choose.\n",
      "  warnings.warn(EPOCH_DEPRECATION_WARNING, UserWarning)\n"
     ]
    },
    {
     "name": "stdout",
     "output_type": "stream",
     "text": [
      "Epoch 4: 100%|██████████| 4688/4688 [00:42<00:00, 110.59it/s, v_num=arge, train_reconstruction_loss=0.0975, val_reconstruction_loss=0.162] "
     ]
    },
    {
     "name": "stderr",
     "output_type": "stream",
     "text": [
      "`Trainer.fit` stopped: `max_epochs=5` reached.\n"
     ]
    },
    {
     "name": "stdout",
     "output_type": "stream",
     "text": [
      "Epoch 4: 100%|██████████| 4688/4688 [00:42<00:00, 110.59it/s, v_num=arge, train_reconstruction_loss=0.0975, val_reconstruction_loss=0.162]\n"
     ]
    },
    {
     "name": "stderr",
     "output_type": "stream",
     "text": [
      "LOCAL_RANK: 0 - CUDA_VISIBLE_DEVICES: [0]\n"
     ]
    },
    {
     "name": "stdout",
     "output_type": "stream",
     "text": [
      "Validation DataLoader 0: 100%|██████████| 235/235 [00:01<00:00, 215.75it/s]\n"
     ]
    },
    {
     "data": {
      "text/html": [
       "<pre style=\"white-space:pre;overflow-x:auto;line-height:normal;font-family:Menlo,'DejaVu Sans Mono',consolas,'Courier New',monospace\">┏━━━━━━━━━━━━━━━━━━━━━━━━━━━┳━━━━━━━━━━━━━━━━━━━━━━━━━━━┓\n",
       "┃<span style=\"font-weight: bold\">      Validate metric      </span>┃<span style=\"font-weight: bold\">       DataLoader 0        </span>┃\n",
       "┡━━━━━━━━━━━━━━━━━━━━━━━━━━━╇━━━━━━━━━━━━━━━━━━━━━━━━━━━┩\n",
       "│<span style=\"color: #008080; text-decoration-color: #008080\">  val_reconstruction_loss  </span>│<span style=\"color: #800080; text-decoration-color: #800080\">    0.16054707765579224    </span>│\n",
       "└───────────────────────────┴───────────────────────────┘\n",
       "</pre>\n"
      ],
      "text/plain": [
       "┏━━━━━━━━━━━━━━━━━━━━━━━━━━━┳━━━━━━━━━━━━━━━━━━━━━━━━━━━┓\n",
       "┃\u001b[1m \u001b[0m\u001b[1m     Validate metric     \u001b[0m\u001b[1m \u001b[0m┃\u001b[1m \u001b[0m\u001b[1m      DataLoader 0       \u001b[0m\u001b[1m \u001b[0m┃\n",
       "┡━━━━━━━━━━━━━━━━━━━━━━━━━━━╇━━━━━━━━━━━━━━━━━━━━━━━━━━━┩\n",
       "│\u001b[36m \u001b[0m\u001b[36m val_reconstruction_loss \u001b[0m\u001b[36m \u001b[0m│\u001b[35m \u001b[0m\u001b[35m   0.16054707765579224   \u001b[0m\u001b[35m \u001b[0m│\n",
       "└───────────────────────────┴───────────────────────────┘\n"
      ]
     },
     "metadata": {},
     "output_type": "display_data"
    },
    {
     "data": {
      "text/plain": [
       "[{'val_reconstruction_loss': 0.16054707765579224}]"
      ]
     },
     "execution_count": 7,
     "metadata": {},
     "output_type": "execute_result"
    }
   ],
   "source": [
    "trainer.fit(vae_trainer,  train_loader, val_dataloaders=test_loader)\n",
    "trainer.validate(vae_trainer, dataloaders=test_loader)\n"
   ]
  },
  {
   "cell_type": "code",
   "execution_count": 30,
   "metadata": {},
   "outputs": [
    {
     "name": "stdout",
     "output_type": "stream",
     "text": [
      "Original input:\n",
      "[ 1.          0.          0.          0.          0.          0.\n",
      "  0.          0.6828931   0.7955297  -0.78050554  0.7546705   0.26917306\n",
      "  0.20375885  0.1248081   0.354417  ]\n",
      "\n",
      "Reconstructed input:\n",
      "[ 0.9672451   0.01955883 -0.0208485   0.04493848  0.01949345  0.01587804\n",
      "  0.01565391  0.35579953  0.2746787  -0.28623143  0.4095033   0.15522192\n",
      "  0.5061113   0.17680027  0.20572081]\n",
      "\n",
      "Mean squared error:\n",
      "0.05838171\n"
     ]
    }
   ],
   "source": [
    "# Get a batch from test dataset\n",
    "test_batch = next(iter(train_loader))\n",
    "x, sdf, tau = test_batch\n",
    "\n",
    "# Get reconstruction\n",
    "with torch.no_grad():\n",
    "    output = vae_trainer.vae(x, reconstruction=True)\n",
    "    x_reconstructed = output[\"x_reconstructed\"]\n",
    "\n",
    "# Convert to numpy for printing\n",
    "x_original = x[:, 2:].cpu().numpy()  # Remove first two columns (query points)\n",
    "x_recon = x_reconstructed.cpu().numpy()\n",
    "\n",
    "# Print first example\n",
    "print(\"Original input:\")\n",
    "print(x_original[0])\n",
    "print(\"\\nReconstructed input:\")\n",
    "print(x_recon[0])\n",
    "print(\"\\nMean squared error:\")\n",
    "print(np.mean((x_original[0] - x_recon[0])**2))\n",
    "\n"
   ]
  },
  {
   "cell_type": "code",
   "execution_count": null,
   "metadata": {},
   "outputs": [],
   "source": []
  },
  {
   "cell_type": "code",
   "execution_count": null,
   "metadata": {},
   "outputs": [],
   "source": []
  }
 ],
 "metadata": {
  "kernelspec": {
   "display_name": ".venv",
   "language": "python",
   "name": "python3"
  },
  "language_info": {
   "codemirror_mode": {
    "name": "ipython",
    "version": 3
   },
   "file_extension": ".py",
   "mimetype": "text/x-python",
   "name": "python",
   "nbconvert_exporter": "python",
   "pygments_lexer": "ipython3",
   "version": "3.12.3"
  }
 },
 "nbformat": 4,
 "nbformat_minor": 2
}
